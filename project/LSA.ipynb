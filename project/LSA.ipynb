{
 "cells": [
  {
   "cell_type": "code",
   "execution_count": 79,
   "id": "8da2a211-210a-4b3d-aad3-28d70e631a00",
   "metadata": {},
   "outputs": [],
   "source": [
    "import numpy as np\n",
    "import scipy as sp\n",
    "import sympy as sym"
   ]
  },
  {
   "cell_type": "code",
   "execution_count": 80,
   "id": "eb8f4922-bf4f-409b-b83c-88f03bc7187b",
   "metadata": {},
   "outputs": [
    {
     "name": "stdout",
     "output_type": "stream",
     "text": [
      "[[1. 2. 3.]\n",
      " [4. 5. 6.]\n",
      " [7. 8. 9.]]\n",
      "2\n",
      "1\n"
     ]
    }
   ],
   "source": [
    "A = np.array([\n",
    "    [1,2,3],\n",
    "    [4,5,6],\n",
    "    [7,8,9]\n",
    "], dtype=np.float32)\n",
    "\n",
    "print(A)\n",
    "print(np.linalg.matrix_rank(A))\n",
    "print(A.shape[1] - np.linalg.matrix_rank(A))"
   ]
  },
  {
   "cell_type": "code",
   "execution_count": 82,
   "id": "162da3f8-e169-4f0a-9b6e-3098e8361d07",
   "metadata": {},
   "outputs": [
    {
     "name": "stdout",
     "output_type": "stream",
     "text": [
      "[[0.14285715 1.         0.        ]\n",
      " [0.5714286  0.4999998  1.        ]\n",
      " [1.         0.         0.        ]]\n",
      "\n",
      "[[7.        8.        9.       ]\n",
      " [0.        0.8571428 1.7142856]\n",
      " [0.        0.        0.       ]]\n",
      "\n",
      "[[1. 2. 3.]\n",
      " [4. 5. 6.]\n",
      " [7. 8. 9.]]\n"
     ]
    }
   ],
   "source": [
    "print(l := sp.linalg.lu(A, permute_l=True)[0])\n",
    "print()\n",
    "print(u := sp.linalg.lu(A, permute_l=True)[1])\n",
    "print()\n",
    "print(l @ u)"
   ]
  },
  {
   "cell_type": "code",
   "execution_count": 84,
   "id": "7c7e9baa-0c84-4721-bf11-44c81cc87e35",
   "metadata": {},
   "outputs": [
    {
     "data": {
      "text/latex": [
       "$\\displaystyle \\left[\\begin{matrix}1 & 0 & -1.0\\\\0 & 1 & 2.0\\\\0 & 0 & 0\\end{matrix}\\right]$"
      ],
      "text/plain": [
       "Matrix([\n",
       "[1, 0, -1.0],\n",
       "[0, 1,  2.0],\n",
       "[0, 0,    0]])"
      ]
     },
     "execution_count": 84,
     "metadata": {},
     "output_type": "execute_result"
    }
   ],
   "source": [
    "sym.Matrix(A).rref()[0]"
   ]
  },
  {
   "cell_type": "code",
   "execution_count": 75,
   "id": "f4fa5dd1-e4ed-4800-b71b-6ec6a0636128",
   "metadata": {},
   "outputs": [
    {
     "data": {
      "text/latex": [
       "$\\displaystyle \\left[\\begin{matrix}1.0\\\\4.0\\\\7.0\\end{matrix}\\right]$"
      ],
      "text/plain": [
       "Matrix([\n",
       "[1.0],\n",
       "[4.0],\n",
       "[7.0]])"
      ]
     },
     "execution_count": 75,
     "metadata": {},
     "output_type": "execute_result"
    }
   ],
   "source": [
    "sym.Matrix(A).columnspace()[0]"
   ]
  },
  {
   "cell_type": "code",
   "execution_count": 76,
   "id": "26d86249-7b00-4665-87a0-140500386480",
   "metadata": {},
   "outputs": [
    {
     "data": {
      "text/latex": [
       "$\\displaystyle \\left[\\begin{matrix}2.0\\\\5.0\\\\8.0\\end{matrix}\\right]$"
      ],
      "text/plain": [
       "Matrix([\n",
       "[2.0],\n",
       "[5.0],\n",
       "[8.0]])"
      ]
     },
     "execution_count": 76,
     "metadata": {},
     "output_type": "execute_result"
    }
   ],
   "source": [
    "sym.Matrix(A).columnspace()[1]"
   ]
  },
  {
   "cell_type": "code",
   "execution_count": 77,
   "id": "af87c4f4-70e8-46fa-be44-0017701a5f9c",
   "metadata": {},
   "outputs": [
    {
     "data": {
      "text/latex": [
       "$\\displaystyle \\left[\\begin{matrix}1.0\\\\-2.0\\\\1\\end{matrix}\\right]$"
      ],
      "text/plain": [
       "Matrix([\n",
       "[ 1.0],\n",
       "[-2.0],\n",
       "[   1]])"
      ]
     },
     "execution_count": 77,
     "metadata": {},
     "output_type": "execute_result"
    }
   ],
   "source": [
    "sym.Matrix(A).nullspace()[0]"
   ]
  }
 ],
 "metadata": {
  "kernelspec": {
   "display_name": "Python 3 (ipykernel)",
   "language": "python",
   "name": "python3"
  },
  "language_info": {
   "codemirror_mode": {
    "name": "ipython",
    "version": 3
   },
   "file_extension": ".py",
   "mimetype": "text/x-python",
   "name": "python",
   "nbconvert_exporter": "python",
   "pygments_lexer": "ipython3",
   "version": "3.13.2"
  }
 },
 "nbformat": 4,
 "nbformat_minor": 5
}
